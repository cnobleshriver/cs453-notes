{
 "cells": [
  {
   "cell_type": "markdown",
   "metadata": {},
   "source": [
    "# CS 453 Lecture 3\n",
    "9/12/24"
   ]
  },
  {
   "cell_type": "markdown",
   "metadata": {},
   "source": [
    "### Packet Delay\n",
    "\n",
    "$ d_{e-t-e} = d_{proc} + d_{queue} + d_{trans} + d_{prop}$\\\n",
    "$d_{e-t-e}$: End-to-end delay\\\n",
    "$d_{proc}$: Nodal processing\n",
    "- check bit errors\n",
    "- determine output link\n",
    "- typically < msec \n",
    "\n",
    "$d_{queue}$: Queueing delay \n",
    "- time waiting at output link for transmission\n",
    "- depends on congestion level of router\n",
    "- typically < msec\n",
    "\n",
    "$d_{trans}$: Transmission delay \n",
    "- L: packet length (bits)\n",
    "- R: link transmission rate (bps)\n",
    "- $d_{trans} = L/R$\n",
    "\n",
    "$d_{prop}$: Propogation delay\n",
    "- d: length of physical link\n",
    "- s: propogation speed (~2x10<sup>8</sup> m/sec)\n",
    "- $d_{prop} = d/s$\n",
    "\n",
    "\n",
    "\n"
   ]
  },
  {
   "cell_type": "markdown",
   "metadata": {},
   "source": [
    "### Queueing delay\n",
    "- R: link bandwidth (bps)\n",
    "- L: packet length (bits)\n",
    "- *a*: average packet arrival rate (#/s)\n",
    "- Total input rate = L*a* bps\n",
    "- Total output rate = R bps\n",
    "\n",
    "**Observation**\n",
    "- L*a*/R ~ 0: avg. queing delay small\n",
    "- L*a*/R = 1: avg. queing delay large\n",
    "- L*a*/R > 1: more \"work\" arriving than can be serviced, average delay infinite!"
   ]
  },
  {
   "cell_type": "markdown",
   "metadata": {},
   "source": [
    "### Packet Loss\n",
    "- queue (aka buffer) preceding link in buffer has finite capacity\n",
    "- packet arriving to full queue dropped (aka lost)\n",
    "- lost packet may be retransmitted by previous node, by source end systen, or not at all"
   ]
  },
  {
   "cell_type": "markdown",
   "metadata": {},
   "source": [
    "### Throughput\n",
    "*Throughput*: rate (bits/time-unit) at which bits tranferred between sender/receiver\n",
    "- Instantaneous: rate at given point in time\n",
    "- Average: rate over longer period of time\n",
    "- **Bottleneck link**: link on end-end path that constrains end-end throughtput"
   ]
  },
  {
   "cell_type": "markdown",
   "metadata": {},
   "source": [
    "### Internet Protocol Stack\n",
    "\n",
    "<ol reversed>\n",
    "  <li>Application</li>\n",
    "  <li>Transport</li>\n",
    "  <li>Network</li>\n",
    "  <li>Link</li>\n",
    "  <li>Physical</li>\n",
    "</ol>\n",
    "\n",
    "- **Application**: supporting network applications (HTTP)\n",
    "- **Transport**: process-processs data transfer (TCP)\n",
    "- **Network**: routing of datagrams from source to destination (IP)\n",
    "- **Link**: data transfer between neighboring network elements (Ethernet)\n",
    "- **Physical**: bits \"on the wire\""
   ]
  }
 ],
 "metadata": {
  "language_info": {
   "name": "python"
  }
 },
 "nbformat": 4,
 "nbformat_minor": 2
}
