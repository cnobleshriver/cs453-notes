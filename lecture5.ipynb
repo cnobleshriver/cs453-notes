{
 "cells": [
  {
   "cell_type": "markdown",
   "metadata": {},
   "source": [
    "## HTTP: two types\n",
    "### Non-persistent HTTP\n",
    "1. TCP connection opened\n",
    "2. at most one object sent over TCP\n",
    "connection\n",
    "3. TCP connection closed\n",
    "\n",
    "### Persistent HTTP\n",
    "1. TCP connection opened to a server\n",
    "2. Multiple objects can be sent over\n",
    "single TCP connection between\n",
    "client, and that server\n",
    "3. TCP connection closed\n",
    "Computer Networking 302- Application Layer\n",
    "\n"
   ]
  },
  {
   "cell_type": "markdown",
   "metadata": {},
   "source": [
    "## HTTP: Response time\n",
    "- RTT (round-trip time): Time for  a small packet to travel from client to server and back\n",
    "\n",
    "### Non-persistent HTTP response time:\n",
    "- One RTT to initiate TCP connection\n",
    "- One RTT for HTTP request and first few bytes of HTTP response to return\n",
    "- Object/file transmission time\n",
    "- total = 2RTT + time to transmit file\n",
    "\n",
    "### Persistent HTTP response time:\n",
    "- server leaves connection open after sending response\n",
    "- subsequent HTTP messages between same client/server sent over open connection\n",
    "- client send request as soon as it encounters a referenced object\n",
    "- as little as one RTT\n"
   ]
  },
  {
   "cell_type": "markdown",
   "metadata": {},
   "source": [
    "## Maintaining User/Server State: Cookies\n",
    "Web sites and client browser use\n",
    "cookies to maintain some state\n",
    "between transactions \\\n",
    "Four components:\n",
    "1) Cookie header line of HTTP\n",
    "response message\n",
    "2) Cookie header line in next HTTP\n",
    "request message\n",
    "3) Cookie file kept on user’s host,\n",
    "managed by user’s browser\n",
    "4) Back-end database at Web site\n",
    "\n",
    "What cookies can be used for:\n",
    "- Authorization\n",
    "- Shopping carts\n",
    "- Recommendations\n",
    "- User session state (web e-mail)\n",
    "\n",
    "Challenge: How to keep\n",
    "“state”:\n",
    "- Protocol endpoints: maintain state at\n",
    "sender/receiver over multiple\n",
    "transactions\n",
    "- Cookies: http messages carry state\n",
    "\n",
    "Cookies and privacy:\n",
    "- Cookies permit sites to learn a\n",
    "lot about you on their site.\n",
    "- You may supply name and e-mail\n",
    "to sites.\n",
    "- Third party persistent cookies\n",
    "(tracking cookies) allow\n",
    "common identity (cookie value)\n",
    "to be tracked across multiple\n",
    "web sites"
   ]
  },
  {
   "cell_type": "markdown",
   "metadata": {},
   "source": [
    "## Web Caches (Proxy Server)\n",
    "Goal: satisfy client request without involving origin server \\\n",
    "User configures browser to point\n",
    "to a Web cache\n",
    "- Browser sends all HTTP requests to\n",
    "cache\n",
    "- if object in cache: cache returns\n",
    "object to client\n",
    "- else cache requests object from\n",
    "origin server, caches received object,\n",
    "then returns object to client\n",
    "\n",
    "Why Web caching?\n",
    "- Reduce response time for client\n",
    "request\n",
    "- Reduce traffic on an institution’s\n",
    "access link\n",
    "- Internet dense with caches: enables\n",
    "“poor” content providers to\n",
    "effectively deliver content (so too\n",
    "does P2P file sharing)\n",
    "Computer Networking 512- Application Layer\n"
   ]
  }
 ],
 "metadata": {
  "language_info": {
   "name": "python"
  }
 },
 "nbformat": 4,
 "nbformat_minor": 2
}
